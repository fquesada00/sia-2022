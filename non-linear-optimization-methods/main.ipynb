{
 "cells": [
  {
   "cell_type": "markdown",
   "metadata": {},
   "source": [
    "# Métodos de optimización no lineal sin restricciones\n",
    "----------------\n",
    "\n",
    "## Autores\n",
    "* Quesada, Francisco\n",
    "* Serpe, Octavio\n",
    "* Arca, Gonzalo\n",
    "\n",
    "-----------------\n",
    "\n",
    "## Librerías utilizadas\n",
    "* SciPy\n",
    "* NumPy\n",
    "-----------------\n"
   ]
  },
  {
   "cell_type": "code",
   "execution_count": 80,
   "metadata": {},
   "outputs": [],
   "source": [
    "import math\n",
    "from scipy.optimize import minimize\n",
    "import numpy as np\n",
    "import time"
   ]
  },
  {
   "cell_type": "code",
   "execution_count": 2,
   "metadata": {},
   "outputs": [],
   "source": [
    "MIN_REAL = -10\n",
    "MAX_REAL = 10\n",
    "\n",
    "NUMBER_OF_PARAMETERS = 11\n",
    "\n",
    "DATASET_INPUT = [(4.4793, -4.0765, -4.0765), (-4.1793, -\n",
    "                                              4.9218, 1.7664), (-3.9429, -0.7689, 4.8830)]\n",
    "\n",
    "DATASET_OUTPUT = [0, 1, 1]"
   ]
  },
  {
   "cell_type": "code",
   "execution_count": 7,
   "metadata": {},
   "outputs": [],
   "source": [
    "# W 3 element vector\n",
    "# w 2x3 matrix as 6 element vector\n",
    "# w_0 2 element vector\n",
    "# reactive_values 3 element vector\n",
    "def f(W, w, w_0, reactive_values):\n",
    "    inner_g_input = 0\n",
    "    outer_g_input = 0\n",
    "\n",
    "    for j in range(2):\n",
    "        for k in range(3):\n",
    "            inner_g_input += w[k + (j * 3)] * reactive_values[k] - w_0[j]\n",
    "        outer_g_input += W[j] * g(inner_g_input)\n",
    "    return g(outer_g_input - W[0])\n",
    "\n",
    "\n",
    "# dataset_input 3 element vector\n",
    "# dataset_output 3 element vector\n",
    "def error(x, dataset_input, dataset_output):\n",
    "    #dataset_input, dataset_output = dataset_tuple\n",
    "    error = 0\n",
    "\n",
    "    W = x[0:3]\n",
    "    w = x[3:9]\n",
    "    w_0 = x[9:11]\n",
    "\n",
    "    for i in range(len(dataset_input)):\n",
    "        error += math.pow(dataset_output[i] -\n",
    "                          f(W, w, w_0, dataset_input[i]), 2)\n",
    "\n",
    "    return error\n",
    "\n",
    "\n",
    "def g(x):\n",
    "    # If over the limit, return the limit value\n",
    "    try:\n",
    "        exp_value = math.exp(x)\n",
    "    except OverflowError:\n",
    "        return 1\n",
    "\n",
    "    return exp_value / (1 + exp_value)"
   ]
  },
  {
   "cell_type": "markdown",
   "metadata": {},
   "source": [
    "## Método 1: Gradiente descendiente (método quasi-Newton BFGS)"
   ]
  },
  {
   "cell_type": "code",
   "execution_count": 132,
   "metadata": {},
   "outputs": [
    {
     "name": "stdout",
     "output_type": "stream",
     "text": [
      "Optimization terminated successfully.\n",
      "         Current function value: 0.250000\n",
      "         Iterations: 9\n",
      "         Function evaluations: 240\n",
      "         Gradient evaluations: 20\n",
      "Argumentos óptimos:\n",
      "W = \t[-12.34575269   1.86210741   7.2390848 ]\n",
      "w = \t[ 3.331667    9.89523028 -5.44874473]\n",
      "\t[-7.19092443  7.38172134  6.92443013]\n",
      "w_0 = \t[-9.09880461  5.41392854]\n",
      "\n",
      "error: 0.25000000012544193\n",
      "Tiempo de ejecucion: 0.008009666998987086 segundos\n"
     ]
    }
   ],
   "source": [
    "# https://docs.scipy.org/doc/scipy/reference/optimize.minimize-bfgs.html\n",
    "\n",
    "x0 = np.random.uniform(low=MIN_REAL, high=MAX_REAL, size=NUMBER_OF_PARAMETERS)\n",
    "start_time = time.perf_counter()\n",
    "optimizeResult = minimize(error, x0, method='BFGS', args=(DATASET_INPUT, DATASET_OUTPUT), tol=1e-10, options={\"disp\":True})\n",
    "end_time = time.perf_counter()\n",
    "print(f'Argumentos óptimos:\\nW = \\t{optimizeResult.x[0:3]}\\nw = \\t{optimizeResult.x[3:6]}\\n\\t{optimizeResult.x[6:9]}\\nw_0 = \\t{optimizeResult.x[9:11]}\\n')\n",
    "print(f'error: {error(optimizeResult.x, DATASET_INPUT, DATASET_OUTPUT)}')\n",
    "print(\"Tiempo de ejecucion:\", end_time - start_time , \"segundos\")"
   ]
  },
  {
   "cell_type": "markdown",
   "metadata": {},
   "source": [
    "## Método 2: Gradientes conjugados"
   ]
  },
  {
   "cell_type": "code",
   "execution_count": 102,
   "metadata": {},
   "outputs": [
    {
     "name": "stdout",
     "output_type": "stream",
     "text": [
      "Optimization terminated successfully.\n",
      "         Current function value: 0.500000\n",
      "         Iterations: 28\n",
      "         Function evaluations: 1428\n",
      "         Gradient evaluations: 119\n",
      "Argumentos óptimos:\n",
      "W = \t[5.87088232e-09 1.08457525e+01 9.97618221e+00]\n",
      "w = \t[9.3526285  9.92319251 8.4732359 ]\n",
      "\t[-7.20631308  7.31355991  9.5537783 ]\n",
      "w_0 = \t[ 7.50044359 -4.74050932]\n",
      "\n",
      "0.5000000003797364\n",
      "Tiempo de ejecucion: 0.03835148200050753 segundos\n"
     ]
    }
   ],
   "source": [
    "# https://docs.scipy.org/doc/scipy/reference/optimize.minimize-cg.html\n",
    "\n",
    "x0 = np.random.uniform(low=MIN_REAL, high=MAX_REAL, size=NUMBER_OF_PARAMETERS)\n",
    "start_time = time.perf_counter()\n",
    "optimizeResult = minimize(error, x0, method='CG', args=(DATASET_INPUT, DATASET_OUTPUT), tol=1e-10, options={\"disp\":True})\n",
    "end_time = time.perf_counter()\n",
    "print(f'Argumentos óptimos:\\nW = \\t{optimizeResult.x[0:3]}\\nw = \\t{optimizeResult.x[3:6]}\\n\\t{optimizeResult.x[6:9]}\\nw_0 = \\t{optimizeResult.x[9:11]}\\n')\n",
    "print(f'error: {error(optimizeResult.x, DATASET_INPUT, DATASET_OUTPUT)}')\n",
    "print(\"Tiempo de ejecucion:\", end_time - start_time , \"segundos\")"
   ]
  },
  {
   "cell_type": "markdown",
   "metadata": {},
   "source": [
    "## Método 3: ADAM"
   ]
  },
  {
   "cell_type": "markdown",
   "metadata": {},
   "source": [
    "### Implementación del método"
   ]
  },
  {
   "cell_type": "code",
   "execution_count": null,
   "metadata": {},
   "outputs": [],
   "source": [
    "# insert implementación de método ADAM"
   ]
  },
  {
   "cell_type": "markdown",
   "metadata": {},
   "source": [
    "### Uso del método"
   ]
  },
  {
   "cell_type": "code",
   "execution_count": null,
   "metadata": {},
   "outputs": [],
   "source": [
    "# insert uso del método ADAM"
   ]
  }
 ],
 "metadata": {
  "interpreter": {
   "hash": "d39c3dda0d45297420c0d8fc1cf706a4a2909234f3473c84dddd2ffa0a641241"
  },
  "kernelspec": {
   "display_name": "Python 3.9.12 ('non-linear-optimization-methods-gr2b39L-')",
   "language": "python",
   "name": "python3"
  },
  "language_info": {
   "codemirror_mode": {
    "name": "ipython",
    "version": 3
   },
   "file_extension": ".py",
   "mimetype": "text/x-python",
   "name": "python",
   "nbconvert_exporter": "python",
   "pygments_lexer": "ipython3",
   "version": "3.9.12"
  },
  "orig_nbformat": 4
 },
 "nbformat": 4,
 "nbformat_minor": 2
}
