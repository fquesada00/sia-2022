{
 "cells": [
  {
   "cell_type": "code",
   "execution_count": 2,
   "id": "81dbfbf2",
   "metadata": {},
   "outputs": [],
   "source": [
    "import numpy as np\n",
    "import math\n",
    "from enum import Enum\n",
    "from collections import deque"
   ]
  },
  {
   "cell_type": "code",
   "execution_count": null,
   "id": "58b6a1dc",
   "metadata": {},
   "outputs": [],
   "source": [
    "class Action(Enum):\n",
    "    UP: 0\n",
    "    RIGHT: 1\n",
    "    DOWN: 2\n",
    "    LEFT: 3\n",
    "\n",
    "\n",
    "N = 3\n",
    "BLANK = N*N\n",
    "initial_state = deque([1, 2, 3, 4, 5, 6, 7, BLANK, 8])"
   ]
  },
  {
   "cell_type": "markdown",
   "id": "a391c8ce",
   "metadata": {},
   "source": [
    "TODO: aclarar condición de solucionable"
   ]
  },
  {
   "cell_type": "code",
   "execution_count": null,
   "id": "dddfc1df",
   "metadata": {},
   "outputs": [],
   "source": [
    "def count_inversions(state, n): \n",
    "    count = 0\n",
    "\n",
    "    for i in range(0, n):\n",
    "        for j in range (i+1, n):\n",
    "            if state[i] > state[j]:\n",
    "                count += 1\n",
    "            \n",
    "    return count\n",
    "\n",
    "def is_solvable(initial_state, n):\n",
    "    inversions = count_inversions(initial_state, n)\n",
    "\n",
    "    if n % 2 == 1:\n",
    "        return inversions % 2 == 0\n",
    "    else:  \n",
    "        blank_index = find_blank_index(initial_state)\n",
    "        row_from_bottom = N - get_blank_row(blank_index, n)\n",
    "\n",
    "        if row_from_bottom % 2 == 0:\n",
    "            return inversions % 2 == 1\n",
    "        else:\n",
    "            return inversions % 2 == 0\n",
    "\n",
    "def get_next_state(state, action):\n",
    "    new_state = state.copy()\n",
    "    blank_index = find_blank_index(state)\n",
    "\n",
    "    if action == Action.UP:\n",
    "        new_state[blank_index], new_state[blank_index-N] = new_state[blank_index-N], new_state[blank_index]\n",
    "    elif action == Action.RIGHT:\n",
    "        new_state[blank_index], new_state[blank_index+1] = new_state[blank_index+1], new_state[blank_index]\n",
    "    elif action == Action.DOWN:\n",
    "        new_state[blank_index], new_state[blank_index+N] = new_state[blank_index+N], new_state[blank_index]\n",
    "    elif action == Action.LEFT:\n",
    "        new_state[blank_index], new_state[blank_index-1] = new_state[blank_index-1], new_state[blank_index]\n",
    "    \n",
    "    return new_state;\n",
    "\n",
    "def get_actions(state):\n",
    "    blank_index = find_blank_index(state)\n",
    "    blank_col = blank_index % N\n",
    "\n",
    "    actions = []\n",
    "\n",
    "    if blank_col >= N:\n",
    "        actions.append(Action.UP)\n",
    "    if blank_col < N-1:\n",
    "        actions.append(Action.RIGHT)\n",
    "    if blank_index <= N*(N - 1) - 1:\n",
    "        actions.append(Action.DOWN)\n",
    "    if blank_col > 0:\n",
    "        actions.append(Action.LEFT)\n",
    "\n",
    "    return actions\n",
    "\n",
    "def is_goal_state(state):\n",
    "    return state == [1, 2, 3, 4, 5, 6, 7, 8, BLANK]\n",
    "\n",
    "def is_blank(tile):\n",
    "    return tile == BLANK\n",
    "\n",
    "def find_blank_index(state):\n",
    "    return state.index(BLANK)\n",
    "\n",
    "def get_blank_col(blank_index, n):\n",
    "    return blank_index % n\n",
    "\n",
    "def get_blank_row(blank_index, n):\n",
    "    return math.floor(blank_index / n)"
   ]
  },
  {
   "cell_type": "code",
   "execution_count": 4,
   "id": "78ba6447",
   "metadata": {},
   "outputs": [
    {
     "data": {
      "text/plain": [
       "1"
      ]
     },
     "execution_count": 4,
     "metadata": {},
     "output_type": "execute_result"
    }
   ],
   "source": [
    "class Node:\n",
    "    state=None\n",
    "    parent=None\n",
    "    action=None\n",
    "    path_cost=None\n",
    "\n",
    "    def __init__(self, state, parent, action, path_cost):\n",
    "        self.state = state\n",
    "        self.parent = parent\n",
    "        self.action = action\n",
    "        self.path_cost = path_cost\n",
    "    \n",
    "    def __str__(self):\n",
    "        return f\"State:{self.state}\\nParent:{self.parent}\\nAction:{self.action}\\nPath Cost:{self.path_cost}\""
   ]
  },
  {
   "cell_type": "code",
   "execution_count": null,
   "id": "157ec154",
   "metadata": {},
   "outputs": [],
   "source": [
    "def DFS(initial_state):\n",
    "    frontier= []\n",
    "    frontier.append(Node(initial_state, None, None, 0))\n",
    "\n",
    "    while len(frontier) > 0:\n",
    "        node = frontier.pop()\n",
    "    \n",
    "        if is_goal_state(node.state):\n",
    "            return node\n",
    "        else:\n",
    "            actions = get_actions(node.state)\n",
    "            for action in actions:\n",
    "                new_state = get_next_state(node.state, action)\n",
    "                frontier.append(Node(new_state, node, action, node.path_cost + 1))"
   ]
  }
 ],
 "metadata": {
  "kernelspec": {
   "display_name": "Python 3 (ipykernel)",
   "language": "python",
   "name": "python3"
  },
  "language_info": {
   "codemirror_mode": {
    "name": "ipython",
    "version": 3
   },
   "file_extension": ".py",
   "mimetype": "text/x-python",
   "name": "python",
   "nbconvert_exporter": "python",
   "pygments_lexer": "ipython3",
   "version": "3.9.7"
  }
 },
 "nbformat": 4,
 "nbformat_minor": 5
}
