{
 "cells": [
  {
   "cell_type": "code",
   "execution_count": null,
   "metadata": {},
   "outputs": [],
   "source": [
    "%matplotlib widget\n",
    "\n",
    "import numpy as np\n",
    "from matplotlib import pyplot as plt\n",
    "from sklearn.decomposition import PCA\n",
    "from sklearn.preprocessing import StandardScaler\n",
    "import pandas as pd\n",
    "from IPython.display import display, Math\n"
   ]
  },
  {
   "cell_type": "markdown",
   "metadata": {},
   "source": [
    "## Lectura y estandarización de datos"
   ]
  },
  {
   "cell_type": "code",
   "execution_count": null,
   "metadata": {},
   "outputs": [],
   "source": [
    "data = pd.read_csv('./dataset/europe.csv', header=0)\n",
    "\n",
    "data_no_countries = data.drop(['Country'], axis=1)\n",
    "# Plot de data sin escalar\n",
    "\n",
    "scaler = StandardScaler().fit(data_no_countries)\n",
    "scaled_data = scaler.transform(data_no_countries)\n",
    "# Plot de data escalado\n",
    "\n",
    "print(\"Mean:\")\n",
    "print(scaled_data.mean(axis=0))\n",
    "\n",
    "print(\"Standard deviation:\")\n",
    "print(scaled_data.std(axis=0))"
   ]
  },
  {
   "cell_type": "markdown",
   "metadata": {},
   "source": [
    "## PCA"
   ]
  },
  {
   "cell_type": "code",
   "execution_count": null,
   "metadata": {},
   "outputs": [],
   "source": []
  },
  {
   "cell_type": "code",
   "execution_count": null,
   "metadata": {},
   "outputs": [],
   "source": [
    "pca = PCA()\n",
    "\n",
    "pca.fit(scaled_data)\n",
    "\n",
    "components = pca.components_\n",
    "\n",
    "first_component = pd.DataFrame(components[0]).T\n",
    "first_component.columns = data_no_countries.columns\n",
    "first_component.index = ['First component']\n",
    "first_component\n",
    "\n",
    "display(first_component)\n",
    "\n",
    "variance_ratio = pd.DataFrame(pca.explained_variance_ratio_)\n",
    "variance_ratio.index = ['λ1', 'λ2', 'λ3', 'λ4', 'λ5', 'λ6', 'λ7']\n",
    "variance_ratio.columns = ['Variance ratio']\n",
    "variance_ratio.insert(\n",
    "    value=pca.explained_variance_ratio_.cumsum(), column='Cumulative variance', loc=1)\n",
    "\n",
    "display(variance_ratio)\n",
    "\n",
    "scaled_data_df = pd.DataFrame(scaled_data)\n",
    "scaled_data_df.columns = data_no_countries.columns\n",
    "scaled_data_df.index = data_no_countries.index\n",
    "\n",
    "\n",
    "pc1_alignment = scaled_data_df.dot(first_component.T)\n",
    "\n",
    "pc1_alignment.index = data['Country'].to_numpy()\n",
    "\n",
    "fig, axes = plt.subplots(nrows=1, ncols=2, figsize=(20, 12))\n",
    "pc1_alignment.plot.barh( y='First component', ax=axes[0])\n",
    "first_component.T.plot.barh( y='First component', ax=axes[1])\n",
    "\n",
    "plt.show()\n",
    "\n"
   ]
  },
  {
   "cell_type": "markdown",
   "metadata": {},
   "source": [
    "## Biplot"
   ]
  },
  {
   "cell_type": "code",
   "execution_count": null,
   "metadata": {},
   "outputs": [],
   "source": [
    "second_component = components[1]\n",
    "pc2_alignment = scaled_data_df.dot(second_component.T)\n",
    "\n",
    "pc2_alignment.index = data['Country'].to_numpy()\n",
    "\n",
    "plt.figure(figsize=(20, 12))\n",
    "plt.scatter(pc1_alignment, pc2_alignment)\n",
    "plt.xlabel('PC1')\n",
    "plt.ylabel('PC2')\n",
    "\n",
    "for i, txt in enumerate(data['Country'].to_numpy()):\n",
    "    plt.annotate(txt, (pc1_alignment.to_numpy()[\n",
    "                 i], pc2_alignment.to_numpy()[i]))\n",
    "\n",
    "for x, y, col_name in zip(first_component.to_numpy()[0], second_component, first_component.columns):\n",
    "    print(x, y)\n",
    "    plt.arrow(0, 0, x, y)\n",
    "    plt.annotate(col_name, (x, y))\n",
    "\n",
    "\n",
    "plt.show()"
   ]
  }
 ],
 "metadata": {
  "interpreter": {
   "hash": "2d59556b86cd0c231ab7bce144909404f72d20aa04fdd9974347a1b8c7c26b0b"
  },
  "kernelspec": {
   "display_name": "Python 3.9.10 ('PCA-7fA4EtZy')",
   "language": "python",
   "name": "python3"
  },
  "language_info": {
   "codemirror_mode": {
    "name": "ipython",
    "version": 3
   },
   "file_extension": ".py",
   "mimetype": "text/x-python",
   "name": "python",
   "nbconvert_exporter": "python",
   "pygments_lexer": "ipython3",
   "version": "3.9.10"
  },
  "orig_nbformat": 4
 },
 "nbformat": 4,
 "nbformat_minor": 2
}
